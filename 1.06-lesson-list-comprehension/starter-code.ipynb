{
 "cells": [
  {
   "cell_type": "markdown",
   "metadata": {},
   "source": [
    "<img src=\"http://imgur.com/1ZcRyrc.png\" style=\"float: left; margin: 20px; height: 55px\">\n",
    "\n",
    "# Looping and List Comprehension\n",
    "\n",
    "_Authors: Riley Dallas (ATX)_\n",
    "\n",
    "---"
   ]
  },
  {
   "cell_type": "markdown",
   "metadata": {},
   "source": [
    "## Lesson Objectives\n",
    "---\n",
    "1. Review of `for` loops\n",
    "2. Understand how to create list comprehensions\n",
    "3. Use list comprehension to map and filter enumerable objects"
   ]
  },
  {
   "cell_type": "markdown",
   "metadata": {},
   "source": [
    "## `for` Loops\n",
    "---\n",
    "\n",
    "The `for` statement is used to **iterate** over the elements of a sequence. It's \n",
    "used when you have a piece of code which you want to repeat n number of times. \n",
    "You can use any enumerable object (such as strings, lists, tuples, dict and so on) \n",
    "in a `for` loop.\n",
    "```python\n",
    "for number in [1, 2, 3]: \n",
    "    print(number) \n",
    "    print('Yes' * number) \n",
    "    print('') # Creates a line break after each iteration\n",
    "```\n",
    "\n",
    "The loop above has the following parts:\n",
    "1. The word `for`\n",
    "2. A variable that you create (`number`), which be be used for each item in the sequence\n",
    "3. The word `in`\n",
    "4. The sequence to iterate over\n",
    "\n",
    "Copy and paste the loop above to see what it does."
   ]
  },
  {
   "cell_type": "code",
   "execution_count": 1,
   "metadata": {},
   "outputs": [
    {
     "name": "stdout",
     "output_type": "stream",
     "text": [
      "1\n",
      "Yes\n",
      "\n",
      "2\n",
      "YesYes\n",
      "\n",
      "3\n",
      "YesYesYes\n",
      "\n"
     ]
    }
   ],
   "source": [
    "for number in [1, 2, 3]: \n",
    "    print(number) \n",
    "    print('Yes' * number) \n",
    "    print('') # Creates a line break after each iteration"
   ]
  },
  {
   "cell_type": "markdown",
   "metadata": {},
   "source": [
    "## Repeat `for` loops\n",
    "---\n",
    "\n",
    "Let's try a simple repeat `for` loop. A repeat loop is for when you just want to repeat the exact same \n",
    "thing a specific number of times. In that case only the length of the sequence, \n",
    "not the individual elements are important. For this, we can use use the `range` function to create our sequence. \n",
    "\n",
    "In the block below, use `range` to create a for loop that prints **Hello** 10 times."
   ]
  },
  {
   "cell_type": "code",
   "execution_count": 3,
   "metadata": {},
   "outputs": [
    {
     "name": "stdout",
     "output_type": "stream",
     "text": [
      "Hello\n",
      "Hello\n",
      "Hello\n",
      "Hello\n",
      "Hello\n",
      "Hello\n",
      "Hello\n",
      "Hello\n",
      "Hello\n",
      "Hello\n"
     ]
    }
   ],
   "source": [
    "for i in range(10):\n",
    "    print('Hello')"
   ]
  },
  {
   "cell_type": "markdown",
   "metadata": {},
   "source": [
    "## Looping over strings\n",
    "---\n",
    "\n",
    "We've mostly played it safe with list sequences.  Let's try looping through the letters in a word:\n",
    "\n",
    "```python\n",
    "word = \"computer\"\n",
    "```\n",
    "\n",
    "How do we do this?"
   ]
  },
  {
   "cell_type": "code",
   "execution_count": 4,
   "metadata": {},
   "outputs": [
    {
     "name": "stdout",
     "output_type": "stream",
     "text": [
      "c\n",
      "o\n",
      "m\n",
      "p\n",
      "u\n",
      "t\n",
      "e\n",
      "r\n"
     ]
    }
   ],
   "source": [
    "word = \"computer\"\n",
    "\n",
    "for letter in word:\n",
    "    print(letter)"
   ]
  },
  {
   "cell_type": "markdown",
   "metadata": {},
   "source": [
    "## Looping over dictionaries\n",
    "---\n",
    "\n",
    "You can also loop through the key/value pairs in a dictionary. \n",
    "\n",
    "To see this in action, create a dictionary called `user` with the keys `'first_name'` and `'last_name'`"
   ]
  },
  {
   "cell_type": "code",
   "execution_count": 9,
   "metadata": {},
   "outputs": [
    {
     "name": "stdout",
     "output_type": "stream",
     "text": [
      "first_name Michael\n",
      "last_name Medina\n"
     ]
    }
   ],
   "source": [
    "user = {\n",
    "    'first_name': 'Michael',\n",
    "    'last_name': 'Medina'\n",
    "}\n",
    "\n",
    "for key in user:\n",
    "    print(key, user[key])"
   ]
  },
  {
   "cell_type": "markdown",
   "metadata": {},
   "source": [
    "Dictionaries have a method called `items()` specifically for looping. We'll use that in conjunction with a for loop to iterate over the key/value pairs in our `user` dictionary."
   ]
  },
  {
   "cell_type": "code",
   "execution_count": 13,
   "metadata": {},
   "outputs": [
    {
     "name": "stdout",
     "output_type": "stream",
     "text": [
      "Michael\n",
      "Medina\n"
     ]
    }
   ],
   "source": [
    "user.values()\n",
    "user.keys()\n",
    "\n",
    "for value in user.values():\n",
    "    print(value)"
   ]
  },
  {
   "cell_type": "code",
   "execution_count": 15,
   "metadata": {},
   "outputs": [
    {
     "name": "stdout",
     "output_type": "stream",
     "text": [
      "first_name Michael\n",
      "last_name Medina\n"
     ]
    }
   ],
   "source": [
    "for key, value in user.items():\n",
    "    print(key, value)"
   ]
  },
  {
   "cell_type": "markdown",
   "metadata": {},
   "source": [
    "## Mapping\n",
    "---\n",
    "\n",
    "We can also use `for` loops to perform item-wise transformations on a list. Let's say we have a list of numbers, 1-10:\n",
    "\n",
    "```python\n",
    "numbers = [1, 2, 3, 4, 5, 6, 7, 8, 9, 10]\n",
    "```\n",
    "\n",
    "In the cell below, create a new list (`squared_numbers`) that loops through `numbers` and squares each one."
   ]
  },
  {
   "cell_type": "code",
   "execution_count": 21,
   "metadata": {},
   "outputs": [
    {
     "name": "stdout",
     "output_type": "stream",
     "text": [
      "[1, 4, 9, 16, 25, 36, 49, 64, 81, 100]\n"
     ]
    }
   ],
   "source": [
    "numbers = [1, 2, 3, 4, 5, 6, 7, 8, 9, 10]\n",
    "\n",
    "squared_numbers = []\n",
    "\n",
    "for num in numbers:\n",
    "    squared_numbers.append(num ** 2)\n",
    "print(squared_numbers)"
   ]
  },
  {
   "cell_type": "code",
   "execution_count": null,
   "metadata": {},
   "outputs": [],
   "source": []
  },
  {
   "cell_type": "markdown",
   "metadata": {},
   "source": [
    "## List Comprehension\n",
    "---\n",
    "\n",
    "The above code works correctly, hower in Python there's a way to do this more succinctly using list comprehension."
   ]
  },
  {
   "cell_type": "code",
   "execution_count": 24,
   "metadata": {},
   "outputs": [],
   "source": [
    "# Recreate squared_numbers using list comprehension\n",
    "squared_numbers = [num ** 2 for num in numbers]"
   ]
  },
  {
   "cell_type": "markdown",
   "metadata": {},
   "source": [
    "## Mapping practice: lowercase names\n",
    "---\n",
    "\n",
    "Given the following list:\n",
    "```python\n",
    "names = ['Xlegic', 'John', 'Jasmine', 'Eva']\n",
    "```\n",
    "\n",
    "Use list comprehension to lowercase each name."
   ]
  },
  {
   "cell_type": "code",
   "execution_count": 27,
   "metadata": {},
   "outputs": [
    {
     "data": {
      "text/plain": [
       "['xlegic', 'john', 'jasmine', 'eva']"
      ]
     },
     "execution_count": 27,
     "metadata": {},
     "output_type": "execute_result"
    }
   ],
   "source": [
    "names = ['Xlegic', 'John', 'Jasmine', 'Eva']\n",
    "\n",
    "[name.lower() for name in names]"
   ]
  },
  {
   "cell_type": "markdown",
   "metadata": {},
   "source": [
    "## Practice: odds and evens\n",
    "---\n",
    "\n",
    "Sometimes your transformations are more complex, and might require a function. Let's walk through an example:\n",
    "\n",
    "1. Create a list of integers, 1 through 100\n",
    "2. Create a function that accepts a single integer as a parameter and returns `'odd'` or `'even'`, depending on the input.\n",
    "3. Use list comprehension to map through your list of integers and return a list of odd/even strings"
   ]
  },
  {
   "cell_type": "code",
   "execution_count": 28,
   "metadata": {},
   "outputs": [
    {
     "data": {
      "text/plain": [
       "[1, 2, 3, 4, 5, 6, 7, 8, 9, 10]"
      ]
     },
     "execution_count": 28,
     "metadata": {},
     "output_type": "execute_result"
    }
   ],
   "source": [
    "# create an list of integers: 1-100\n",
    "numbers"
   ]
  },
  {
   "cell_type": "code",
   "execution_count": 31,
   "metadata": {},
   "outputs": [
    {
     "data": {
      "text/plain": [
       "'even'"
      ]
     },
     "execution_count": 31,
     "metadata": {},
     "output_type": "execute_result"
    }
   ],
   "source": [
    "# create a function that accepts a single integer, \n",
    "# and returns the string 'odd' or 'even', depending on the integer\n",
    "\n",
    "def odd_even(number):\n",
    "    if number % 2 == 0:\n",
    "        return 'even'\n",
    "    else:\n",
    "        return 'odd'\n",
    "    \n",
    "odd_even(2)"
   ]
  },
  {
   "cell_type": "code",
   "execution_count": 34,
   "metadata": {},
   "outputs": [
    {
     "data": {
      "text/plain": [
       "['odd', 'even', 'odd', 'even', 'odd', 'even', 'odd', 'even', 'odd', 'even']"
      ]
     },
     "execution_count": 34,
     "metadata": {},
     "output_type": "execute_result"
    }
   ],
   "source": [
    "# use list comprehension to convert your list of integers \n",
    "# to an list of odd/even strings\n",
    "[odd_even(number) for number in numbers]"
   ]
  },
  {
   "cell_type": "markdown",
   "metadata": {},
   "source": [
    "## Filtering\n",
    "---\n",
    "\n",
    "Filtering is when you return a subset of a given list that meets a certain condition. Like mapping, we can use list comprehension to filter. \n",
    "\n",
    "Given the following list of people:\n",
    "\n",
    "```python\n",
    "classroom = [\n",
    "    {'name': 'Teacher McTeacherson', 'role': 'teacher'},\n",
    "    {'name': 'Teacher McTeacherson', 'role': 'teacher'},\n",
    "    {'name': 'Teacher McTeacherson', 'role': 'teacher'},\n",
    "    {'name': 'Student McStudentson', 'role': 'student'},\n",
    "    {'name': 'Student McStudentson', 'role': 'student'},\n",
    "    {'name': 'Student McStudentson', 'role': 'student'},\n",
    "    {'name': 'Student McStudentson', 'role': 'student'},\n",
    "    {'name': 'Student McStudentson', 'role': 'student'},\n",
    "    {'name': 'Student McStudentson', 'role': 'student'},\n",
    "    {'name': 'Student McStudentson', 'role': 'student'}\n",
    "]\n",
    "```\n",
    "\n",
    "Use list comprehension to return only those individuals whose role is `'student'`."
   ]
  },
  {
   "cell_type": "code",
   "execution_count": 36,
   "metadata": {},
   "outputs": [
    {
     "data": {
      "text/plain": [
       "[{'name': 'Student McStudentson', 'role': 'student'},\n",
       " {'name': 'Student McStudentson', 'role': 'student'},\n",
       " {'name': 'Student McStudentson', 'role': 'student'},\n",
       " {'name': 'Student McStudentson', 'role': 'student'},\n",
       " {'name': 'Student McStudentson', 'role': 'student'},\n",
       " {'name': 'Student McStudentson', 'role': 'student'},\n",
       " {'name': 'Student McStudentson', 'role': 'student'}]"
      ]
     },
     "execution_count": 36,
     "metadata": {},
     "output_type": "execute_result"
    }
   ],
   "source": [
    "classroom = [\n",
    "    {'name': 'Teacher McTeacherson', 'role': 'teacher'},\n",
    "    {'name': 'Teacher McTeacherson', 'role': 'teacher'},\n",
    "    {'name': 'Teacher McTeacherson', 'role': 'teacher'},\n",
    "    {'name': 'Student McStudentson', 'role': 'student'},\n",
    "    {'name': 'Student McStudentson', 'role': 'student'},\n",
    "    {'name': 'Student McStudentson', 'role': 'student'},\n",
    "    {'name': 'Student McStudentson', 'role': 'student'},\n",
    "    {'name': 'Student McStudentson', 'role': 'student'},\n",
    "    {'name': 'Student McStudentson', 'role': 'student'},\n",
    "    {'name': 'Student McStudentson', 'role': 'student'}\n",
    "]\n",
    "\n",
    "[person for person in classroom if person['role'] == 'student']"
   ]
  },
  {
   "cell_type": "markdown",
   "metadata": {},
   "source": [
    "Now use list comprehension to return the NAMES of the teachers."
   ]
  },
  {
   "cell_type": "code",
   "execution_count": 40,
   "metadata": {},
   "outputs": [
    {
     "data": {
      "text/plain": [
       "['Teacher McTeacherson', 'Teacher McTeacherson', 'Teacher McTeacherson']"
      ]
     },
     "execution_count": 40,
     "metadata": {},
     "output_type": "execute_result"
    }
   ],
   "source": [
    "[person['name'] for person in classroom if person['role'] == 'teacher']"
   ]
  },
  {
   "cell_type": "markdown",
   "metadata": {},
   "source": [
    "## Practice: Finding primes\n",
    "---\n",
    "\n",
    "In the cells provided, do the following:\n",
    "\n",
    "Create a function (`is_prime`) that takes a given number and returns `True` if it's prime and `False` if it's not.\n",
    "\n",
    "Reminder: 1 is not a prime."
   ]
  },
  {
   "cell_type": "code",
   "execution_count": 47,
   "metadata": {},
   "outputs": [
    {
     "data": {
      "text/plain": [
       "True"
      ]
     },
     "execution_count": 47,
     "metadata": {},
     "output_type": "execute_result"
    }
   ],
   "source": [
    "# is_prime\n",
    "def is_prime(number):\n",
    "    if number == 1:\n",
    "        return False\n",
    "    for i in range(2,number):\n",
    "        if number % i == 0:\n",
    "            return False\n",
    "    return True\n",
    "\n",
    "is_prime(13)"
   ]
  },
  {
   "cell_type": "markdown",
   "metadata": {},
   "source": [
    "Now, create a list of numbers, 1-100"
   ]
  },
  {
   "cell_type": "code",
   "execution_count": 41,
   "metadata": {},
   "outputs": [
    {
     "data": {
      "text/plain": [
       "[1, 2, 3, 4, 5, 6, 7, 8, 9, 10]"
      ]
     },
     "execution_count": 41,
     "metadata": {},
     "output_type": "execute_result"
    }
   ],
   "source": [
    "# numbers 1-100\n",
    "numbers"
   ]
  },
  {
   "cell_type": "markdown",
   "metadata": {},
   "source": [
    "Filter your list of numbers to just the primes"
   ]
  },
  {
   "cell_type": "code",
   "execution_count": 53,
   "metadata": {},
   "outputs": [
    {
     "data": {
      "text/plain": [
       "[2, 3, 5, 7]"
      ]
     },
     "execution_count": 53,
     "metadata": {},
     "output_type": "execute_result"
    }
   ],
   "source": [
    "# Filter the primes\n",
    "[number for number in numbers if is_prime(number)]"
   ]
  },
  {
   "cell_type": "markdown",
   "metadata": {},
   "source": [
    "## List Comprehension: Dictionaries\n",
    "---\n",
    "\n",
    "Despite the name, list comprehension is not exclusive to lists. We can also map over dictionaries, but with a subtle difference: we'll wrap our list comprehension in `{}` instead of `[]` to retain the dictionary type.\n",
    "\n",
    "Let's say we have a dictionary of users with their corresponding emails:\n",
    "\n",
    "```python\n",
    "users = {\n",
    "    'user1': 'FOO@BAR.COM',\n",
    "    'user2': 'JOHN@DOE.COM',\n",
    "    'user3': '90SRULE@AOL.COM',\n",
    "    'user4': 'ANNAOLAF@GMAIL.COM'\n",
    "}\n",
    "```\n",
    "\n",
    "We might want to lowercase all the email addresses before saving them to a database. In the block below, map through `users` and return the same dictionary, but with all the emails lowercased."
   ]
  },
  {
   "cell_type": "code",
   "execution_count": 55,
   "metadata": {},
   "outputs": [
    {
     "data": {
      "text/plain": [
       "{'user1': 'foo@bar.com',\n",
       " 'user2': 'john@doe.com',\n",
       " 'user3': '90srule@aol.com',\n",
       " 'user4': 'annaolaf@gmail.com'}"
      ]
     },
     "execution_count": 55,
     "metadata": {},
     "output_type": "execute_result"
    }
   ],
   "source": [
    "users = {\n",
    "    'user1': 'FOO@BAR.COM',\n",
    "    'user2': 'JOHN@DOE.COM',\n",
    "    'user3': '90SRULE@AOL.COM',\n",
    "    'user4': 'ANNAOLAF@GMAIL.COM'\n",
    "}\n",
    "\n",
    "{key:value.lower() for key, value in users.items()}"
   ]
  },
  {
   "cell_type": "markdown",
   "metadata": {},
   "source": [
    "# Filtering Dictionaries\n",
    "---\n",
    "\n",
    "If we can map dictionaries, we can also filter them. Using our `users` dictionary from above, let's filter only users who have an AOL account."
   ]
  },
  {
   "cell_type": "code",
   "execution_count": 57,
   "metadata": {},
   "outputs": [
    {
     "data": {
      "text/plain": [
       "{'user3': '90SRULE@AOL.COM'}"
      ]
     },
     "execution_count": 57,
     "metadata": {},
     "output_type": "execute_result"
    }
   ],
   "source": [
    "{key:value for key, value in users.items() if \"@AOL\" in value}"
   ]
  },
  {
   "cell_type": "code",
   "execution_count": null,
   "metadata": {},
   "outputs": [],
   "source": []
  }
 ],
 "metadata": {
  "anaconda-cloud": {},
  "kernelspec": {
   "display_name": "Python 3",
   "language": "python",
   "name": "python3"
  },
  "language_info": {
   "codemirror_mode": {
    "name": "ipython",
    "version": 3
   },
   "file_extension": ".py",
   "mimetype": "text/x-python",
   "name": "python",
   "nbconvert_exporter": "python",
   "pygments_lexer": "ipython3",
   "version": "3.8.3"
  }
 },
 "nbformat": 4,
 "nbformat_minor": 1
}

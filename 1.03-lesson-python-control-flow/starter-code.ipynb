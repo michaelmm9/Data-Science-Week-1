{
 "cells": [
  {
   "cell_type": "markdown",
   "metadata": {},
   "source": [
    "<img src=\"http://imgur.com/1ZcRyrc.png\" style=\"float: left; margin: 20px; height: 55px\">\n",
    "\n",
    "# Python Iteration and Control Flow\n",
    "\n",
    "_Author: Tim Book_\n",
    "\n",
    "---\n",
    "\n",
    "\n",
    "\n",
    "### Learning Objectives\n",
    " \n",
    "- Explore `Python` control flow and conditional programming.  \n",
    "- Apply `if-else` conditional statements.\n",
    "- Explore looping with Python's `for` and `while` loop structures.\n",
    "- Combine control flow and conditional statements to solve the classic \"FizzBuzz\" code challenge.\n",
    "\n",
    "Time permitting:\n",
    "- Demonstrate error-handling using `try, except` statements."
   ]
  },
  {
   "cell_type": "code",
   "execution_count": 2,
   "metadata": {},
   "outputs": [],
   "source": [
    "parking_tickets = [\n",
    "    {'fine': 150.00, 'type': 'unpaid parking meter', 'paid': False},\n",
    "    {'fine': 70.00, 'type': 'wheels not turned on hill', 'paid': True},\n",
    "    {'fine': 130.00, 'type': 'missing residential permit', 'paid': False},\n",
    "    {'fine': 100.00, 'type': 'loading zone', 'paid': False}\n",
    "]"
   ]
  },
  {
   "cell_type": "code",
   "execution_count": 7,
   "metadata": {},
   "outputs": [
    {
     "data": {
      "text/plain": [
       "'r'"
      ]
     },
     "execution_count": 7,
     "metadata": {},
     "output_type": "execute_result"
    }
   ],
   "source": [
    "len(parking_tickets)\n",
    "len(parking_tickets[0])\n",
    "parking_tickets[-2]['fine']\n",
    "parking_tickets[0]['type'][-1]"
   ]
  },
  {
   "cell_type": "markdown",
   "metadata": {},
   "source": [
    "## What is control flow?\n",
    "\n",
    "Up until now, our Python \"programs\" have been very boring. No pieces of logic have spanned more than one line, and our code was always run top-to-bottom. This is rarely how real code works.\n",
    "\n",
    "* Often we only want a line of code to be run _**sometimes**_. (conditionals!)\n",
    "* Often we want a line of code to run _**many times in a row**_. (loops!)\n",
    "* Often we want to bottle up complex pieces of code and run it _**many times throughout our code, a little different each time, without having to rewrite the whole thing.**_ (functions... tomorrow)"
   ]
  },
  {
   "cell_type": "markdown",
   "metadata": {},
   "source": [
    "<a id='if_else_statements'></a>\n",
    "## Conditional Statements\n",
    "\n",
    "![](imgs/broccoli.jpg)\n",
    "\n",
    "We'll use an `if` statement if we want some code to only run if a certain condition is true.\n",
    "\n",
    "**Conundrum:** You can only have ice cream if you finish your broccoli!"
   ]
  },
  {
   "cell_type": "code",
   "execution_count": 12,
   "metadata": {},
   "outputs": [
    {
     "name": "stdout",
     "output_type": "stream",
     "text": [
      "Wow!\n",
      "DONE.\n"
     ]
    }
   ],
   "source": [
    "broccoli_eaten = 12\n",
    "\n",
    "if broccoli_eaten > 15:\n",
    "    print('Ice cream!')\n",
    "    print('More ice cream!')\n",
    "\n",
    "elif broccoli_eaten > 10:     # Else if\n",
    "    print('Wow!')\n",
    "\n",
    "else:\n",
    "    print('No ice cream :-(')\n",
    "\n",
    "print('DONE.')"
   ]
  },
  {
   "cell_type": "markdown",
   "metadata": {},
   "source": [
    "## Did you finish your broccoli?\n",
    "<details>\n",
    "    <summary>Click to reveal your reward:</summary>\n",
    "    <img src=\"imgs/ice-cream.jpg\">\n",
    "</details>"
   ]
  },
  {
   "cell_type": "markdown",
   "metadata": {},
   "source": [
    "## Now You: Health Test\n",
    "\n",
    "Suppose you are processing the results of a health test. The test is scored from 0 to 100, where 100 is perfect health.\n",
    "\n",
    "If the person's health is above 70, print something encouraging. Otherwise, print \"Go to the doctor, now!\""
   ]
  },
  {
   "cell_type": "code",
   "execution_count": 15,
   "metadata": {},
   "outputs": [
    {
     "name": "stdout",
     "output_type": "stream",
     "text": [
      "way to go\n"
     ]
    }
   ],
   "source": [
    "health = 80\n",
    "\n",
    "if health > 70:\n",
    "    print('way to go')\n",
    "else:\n",
    "    print('Go to the doctor')\n",
    "\n",
    "# TODO: Your if/elif/else statement here!"
   ]
  },
  {
   "cell_type": "markdown",
   "metadata": {},
   "source": [
    "## Loopin'\n",
    "\n",
    "![](imgs/loops.jpg)\n",
    "\n",
    "There are a few types of loops in Python. Today we'll tackle `for` and `while` loops.\n",
    "\n",
    "We'll write a `for` loop to loop through some iterable (like a list) and do something for each element."
   ]
  },
  {
   "cell_type": "code",
   "execution_count": 17,
   "metadata": {},
   "outputs": [
    {
     "name": "stdout",
     "output_type": "stream",
     "text": [
      "Noelle\n",
      "Riley\n",
      "Dan\n"
     ]
    }
   ],
   "source": [
    "names = ['Noelle', 'Riley', 'Dan']\n",
    "\n",
    "for name in names:\n",
    "    print(name)"
   ]
  },
  {
   "cell_type": "markdown",
   "metadata": {},
   "source": [
    "You can also loop through sequences of numbers with the `range()` function."
   ]
  },
  {
   "cell_type": "code",
   "execution_count": 18,
   "metadata": {},
   "outputs": [
    {
     "ename": "TypeError",
     "evalue": "'list' object cannot be interpreted as an integer",
     "output_type": "error",
     "traceback": [
      "\u001b[1;31m---------------------------------------------------------------------------\u001b[0m",
      "\u001b[1;31mTypeError\u001b[0m                                 Traceback (most recent call last)",
      "\u001b[1;32m<ipython-input-18-fd2cc44de328>\u001b[0m in \u001b[0;36m<module>\u001b[1;34m\u001b[0m\n\u001b[0;32m      1\u001b[0m \u001b[1;31m# Range\u001b[0m\u001b[1;33m\u001b[0m\u001b[1;33m\u001b[0m\u001b[1;33m\u001b[0m\u001b[0m\n\u001b[1;32m----> 2\u001b[1;33m \u001b[0mrange\u001b[0m\u001b[1;33m(\u001b[0m\u001b[0mnames\u001b[0m\u001b[1;33m)\u001b[0m\u001b[1;33m\u001b[0m\u001b[1;33m\u001b[0m\u001b[0m\n\u001b[0m",
      "\u001b[1;31mTypeError\u001b[0m: 'list' object cannot be interpreted as an integer"
     ]
    }
   ],
   "source": [
    "# Range\n"
   ]
  },
  {
   "cell_type": "markdown",
   "metadata": {},
   "source": [
    "### Now you:"
   ]
  },
  {
   "cell_type": "code",
   "execution_count": null,
   "metadata": {},
   "outputs": [],
   "source": [
    "# THREAD: Write a loop that prints all of the EVEN numbers between 10 and 20 (inclusive).\n",
    "# (There are two good answers to this!)"
   ]
  },
  {
   "cell_type": "code",
   "execution_count": 30,
   "metadata": {},
   "outputs": [
    {
     "name": "stdout",
     "output_type": "stream",
     "text": [
      "10\n",
      "12\n",
      "14\n",
      "16\n",
      "18\n",
      "20\n"
     ]
    }
   ],
   "source": [
    "# Answer 1:\n",
    "numbers = range(10,21)\n",
    "\n",
    "for number in numbers:\n",
    "    if number % 2 == 0:\n",
    "        print(number)"
   ]
  },
  {
   "cell_type": "code",
   "execution_count": 31,
   "metadata": {},
   "outputs": [
    {
     "name": "stdout",
     "output_type": "stream",
     "text": [
      "10\n",
      "12\n",
      "14\n",
      "16\n",
      "18\n",
      "20\n"
     ]
    }
   ],
   "source": [
    "# Answer 2:\n",
    "\n",
    "for number in numbers[::2]:\n",
    "    print(number)"
   ]
  },
  {
   "cell_type": "code",
   "execution_count": 34,
   "metadata": {},
   "outputs": [
    {
     "name": "stdout",
     "output_type": "stream",
     "text": [
      " 1  2  3  4  5  6  7  8  9 \n",
      " 2  4  6  8 10 12 14 16 18 \n",
      " 3  6  9 12 15 18 21 24 27 \n",
      " 4  8 12 16 20 24 28 32 36 \n",
      " 5 10 15 20 25 30 35 40 45 \n",
      " 6 12 18 24 30 36 42 48 54 \n",
      " 7 14 21 28 35 42 49 56 63 \n",
      " 8 16 24 32 40 48 56 64 72 \n",
      " 9 18 27 36 45 54 63 72 81 \n"
     ]
    }
   ],
   "source": [
    "# times table\n",
    "\n",
    "for row in range(1,10):\n",
    "    for col in range(1,10):\n",
    "        print(f'{row*col:2}', end=' ')\n",
    "    print()"
   ]
  },
  {
   "cell_type": "code",
   "execution_count": 36,
   "metadata": {},
   "outputs": [
    {
     "data": {
      "text/plain": [
       "380.0"
      ]
     },
     "execution_count": 36,
     "metadata": {},
     "output_type": "execute_result"
    }
   ],
   "source": [
    "parking_tickets = [\n",
    "    {'fine': 150.00, 'type': 'unpaid parking meter', 'paid': False},\n",
    "    {'fine': 70.00, 'type': 'wheels not turned on hill', 'paid': True},\n",
    "    {'fine': 130.00, 'type': 'missing residential permit', 'paid': False},\n",
    "    {'fine': 100.00, 'type': 'loading zone', 'paid': False}\n",
    "]\n",
    "\n",
    "total_due = 0.0\n",
    "for ticket in parking_tickets:\n",
    "    if ticket['paid'] == False:\n",
    "        total_due += ticket['fine']\n",
    "    \n",
    "total_due"
   ]
  },
  {
   "cell_type": "markdown",
   "metadata": {},
   "source": [
    "## Aside: Strange Loops!\n",
    "You can also loop through more exotic objects that take advantage of _tuple unpacking!_ We won't see this very often, but when we do, it'll be really handy."
   ]
  },
  {
   "cell_type": "code",
   "execution_count": 41,
   "metadata": {},
   "outputs": [
    {
     "name": "stdout",
     "output_type": "stream",
     "text": [
      "39\n",
      "Sally\n"
     ]
    }
   ],
   "source": [
    "age, name = (39, 'Sally')\n",
    "\n",
    "print(age); print(name)"
   ]
  },
  {
   "cell_type": "code",
   "execution_count": 44,
   "metadata": {},
   "outputs": [
    {
     "name": "stdout",
     "output_type": "stream",
     "text": [
      "Zebra is a type of mammal.\n",
      "Tuna is a type of fish.\n",
      "Python is a type of reptile.\n",
      "Panda is a type of mammal.\n",
      "Frog is a type of amphibian.\n"
     ]
    }
   ],
   "source": [
    "animals = [\n",
    "    ('zebra', 'mammal'),\n",
    "    ('tuna', 'fish'),\n",
    "    ('python', 'reptile'),\n",
    "    ('panda', 'mammal'),\n",
    "    ('frog', 'amphibian')\n",
    "]\n",
    "\n",
    "\n",
    "for animal, aclass in animals:\n",
    "    print(f'{animal.title()} is a type of {aclass}.')"
   ]
  },
  {
   "cell_type": "code",
   "execution_count": 45,
   "metadata": {},
   "outputs": [
    {
     "name": "stdout",
     "output_type": "stream",
     "text": [
      "Zebra is a type of mammal.\n",
      "Tuna is a type of fish.\n",
      "Python is a type of reptile.\n",
      "Panda is a type of mammal.\n",
      "Frog is a type of amphibian.\n"
     ]
    }
   ],
   "source": [
    "animals = {\n",
    "    'zebra': 'mammal',\n",
    "    'tuna': 'fish',\n",
    "    'python': 'reptile',\n",
    "    'panda': 'mammal',\n",
    "    'frog': 'amphibian'\n",
    "}\n",
    "\n",
    "for animal, aclass in animals.items():\n",
    "    print(f'{animal.title()} is a type of {aclass}.')"
   ]
  },
  {
   "cell_type": "markdown",
   "metadata": {},
   "source": [
    "###  While Loops\n",
    "Less common than `for` loops, while loops run until some condition is _not_ met. They're useful for when you don't know how long a loop should run for."
   ]
  },
  {
   "cell_type": "code",
   "execution_count": null,
   "metadata": {},
   "outputs": [],
   "source": []
  },
  {
   "cell_type": "code",
   "execution_count": null,
   "metadata": {},
   "outputs": [],
   "source": [
    "# Infinite loop?!\n",
    "# x = 0\n",
    "# while x < 6:\n",
    "#     x = (x + 1) % 6    # what does this do?"
   ]
  },
  {
   "cell_type": "code",
   "execution_count": 81,
   "metadata": {},
   "outputs": [
    {
     "name": "stdout",
     "output_type": "stream",
     "text": [
      "1\n",
      "4\n",
      "3\n"
     ]
    }
   ],
   "source": [
    "import random\n",
    "\n",
    "roll = 0\n",
    "while roll != 3:\n",
    "    roll = random.randint(1,6)\n",
    "    print(roll)"
   ]
  },
  {
   "cell_type": "markdown",
   "metadata": {},
   "source": [
    "## Error Handling\n",
    "Sometimes, you might actually expect for your program to fail! We can account for this using `try` and `except` clauses."
   ]
  },
  {
   "cell_type": "code",
   "execution_count": 83,
   "metadata": {},
   "outputs": [
    {
     "name": "stdout",
     "output_type": "stream",
     "text": [
      "attempting divide by zero\n",
      "oops\n"
     ]
    }
   ],
   "source": [
    "try:\n",
    "    print('attempting divide by zero')\n",
    "    1/0\n",
    "    print('we did it')\n",
    "except:\n",
    "    print('oops')"
   ]
  },
  {
   "cell_type": "code",
   "execution_count": null,
   "metadata": {},
   "outputs": [],
   "source": [
    "# 'a' - 'b'"
   ]
  },
  {
   "cell_type": "code",
   "execution_count": null,
   "metadata": {},
   "outputs": [],
   "source": []
  },
  {
   "cell_type": "markdown",
   "metadata": {},
   "source": [
    "## What did we do today?\n",
    "- Learned how to _control the flow_ of our program.\n",
    "- `if`/`elif`/`else` conditional statements.\n",
    "- `for` and `while` loops.\n",
    "- Error handling with `try`/`except`."
   ]
  },
  {
   "cell_type": "markdown",
   "metadata": {},
   "source": [
    "## Further resources\n",
    "- [Automate the Boring Stuff with Python](https://automatetheboringstuff.com)\n",
    "- The `exercises.ipynb` notebook in this repo! Actually, let's go there now!"
   ]
  }
 ],
 "metadata": {
  "kernelspec": {
   "display_name": "Python 3",
   "language": "python",
   "name": "python3"
  },
  "language_info": {
   "codemirror_mode": {
    "name": "ipython",
    "version": 3
   },
   "file_extension": ".py",
   "mimetype": "text/x-python",
   "name": "python",
   "nbconvert_exporter": "python",
   "pygments_lexer": "ipython3",
   "version": "3.8.3"
  }
 },
 "nbformat": 4,
 "nbformat_minor": 4
}
